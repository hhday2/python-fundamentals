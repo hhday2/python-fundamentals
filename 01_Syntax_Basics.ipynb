{
 "cells": [
  {
   "cell_type": "markdown",
   "id": "b875130b-c0af-42e7-94ff-aaa4f0dee3a5",
   "metadata": {},
   "source": [
    "# 1. Print Statements and Strings"
   ]
  },
  {
   "cell_type": "code",
   "execution_count": 1,
   "id": "4e2bc934-c252-4aff-bb1e-f344255de152",
   "metadata": {},
   "outputs": [
    {
     "name": "stdout",
     "output_type": "stream",
     "text": [
      "Learning Python is fun and useful!\n"
     ]
    }
   ],
   "source": [
    "print(\"Learning Python is fun and useful!\")"
   ]
  },
  {
   "cell_type": "code",
   "execution_count": 8,
   "id": "cd26d07e-6fc2-48de-91e8-08202f13e1d2",
   "metadata": {},
   "outputs": [
    {
     "name": "stdout",
     "output_type": "stream",
     "text": [
      "Holden Day\n"
     ]
    }
   ],
   "source": [
    "first_name = \"Holden\"\n",
    "last_name = \"Day\"\n",
    "print(f\"{first_name} {last_name}\")"
   ]
  },
  {
   "cell_type": "code",
   "execution_count": 15,
   "id": "503abeb8-5be5-4d9e-9250-897bf801808d",
   "metadata": {},
   "outputs": [
    {
     "name": "stdout",
     "output_type": "stream",
     "text": [
      "Success Success Success Success Success Success Success Success Success Success \n"
     ]
    }
   ],
   "source": [
    "Number = 10\n",
    "Answer = \"Success \" * Number\n",
    "print(Answer)"
   ]
  },
  {
   "cell_type": "markdown",
   "id": "4cbd820b-0202-4a8a-ad7e-8a4e55a1821e",
   "metadata": {},
   "source": [
    "# 2. Variables and Data Types"
   ]
  },
  {
   "cell_type": "code",
   "execution_count": 18,
   "id": "ce260d4c-939d-47b8-92e5-ac2670f534ff",
   "metadata": {},
   "outputs": [
    {
     "name": "stdout",
     "output_type": "stream",
     "text": [
      "<class 'int'>\n",
      "<class 'float'>\n",
      "<class 'str'>\n",
      "<class 'bool'>\n"
     ]
    }
   ],
   "source": [
    "integer = 10\n",
    "flo = 25.76\n",
    "string = \"Hello!\"\n",
    "good_time = True\n",
    "\n",
    "print(type(integer))\n",
    "print(type(flo))\n",
    "print(type(string))\n",
    "print(type(good_time))"
   ]
  },
  {
   "cell_type": "code",
   "execution_count": 19,
   "id": "54a25a81-bebd-4ac8-9e17-52e8c89eb3ce",
   "metadata": {},
   "outputs": [
    {
     "name": "stdin",
     "output_type": "stream",
     "text": [
      " 5\n"
     ]
    },
    {
     "name": "stdout",
     "output_type": "stream",
     "text": [
      "10\n"
     ]
    }
   ],
   "source": [
    "answer = float(input()) * 2\n",
    "print(answer)"
   ]
  },
  {
   "cell_type": "code",
   "execution_count": 21,
   "id": "fa207aa8-2433-4b44-851f-8ce46c1134e5",
   "metadata": {},
   "outputs": [
    {
     "name": "stdout",
     "output_type": "stream",
     "text": [
      "3.3333333333333335\n",
      "<class 'float'>\n"
     ]
    }
   ],
   "source": [
    "x = 10\n",
    "x = x/3\n",
    "print(x)\n",
    "print(type(x))"
   ]
  },
  {
   "cell_type": "markdown",
   "id": "9ac0b09d-d556-4543-b9b9-da62d67cd6aa",
   "metadata": {},
   "source": [
    "# 3. Conditionals"
   ]
  },
  {
   "cell_type": "code",
   "execution_count": 34,
   "id": "2ab031c0-2767-48b0-ae86-398950048eb9",
   "metadata": {},
   "outputs": [
    {
     "name": "stdout",
     "output_type": "stream",
     "text": [
      "What is your age?\n"
     ]
    },
    {
     "name": "stdin",
     "output_type": "stream",
     "text": [
      " 19\n"
     ]
    },
    {
     "name": "stdout",
     "output_type": "stream",
     "text": [
      "Teenager\n"
     ]
    }
   ],
   "source": [
    "print(\"What is your age?\") \n",
    "Age = int(input())\n",
    "if Age < 13:\n",
    "    print(\"Child\")\n",
    "if 13 <= Age <= 19:\n",
    "    print(\"Teenager\")\n",
    "if 19 < Age < 64:\n",
    "    print(\"Adult\")\n",
    "if Age > 63:\n",
    "    print(\"Senior\")\n",
    "\n"
   ]
  },
  {
   "cell_type": "code",
   "execution_count": 36,
   "id": "fa578e43-02db-4bfd-b146-464d131f8547",
   "metadata": {},
   "outputs": [
    {
     "name": "stdout",
     "output_type": "stream",
     "text": [
      "b is greater\n"
     ]
    }
   ],
   "source": [
    "a = 1\n",
    "b = 2\n",
    "if a == b:\n",
    "    print(\"Equal\")\n",
    "if a > b:\n",
    "    print(\"a is greater\")\n",
    "if b > a:\n",
    "    print(\"b is greater\")\n",
    "\n"
   ]
  },
  {
   "cell_type": "code",
   "execution_count": 43,
   "id": "1cfdc88b-fff6-47b1-a4c1-95a154289f6f",
   "metadata": {},
   "outputs": [
    {
     "name": "stdin",
     "output_type": "stream",
     "text": [
      " 15\n"
     ]
    },
    {
     "name": "stdout",
     "output_type": "stream",
     "text": [
      "Divisible by both\n"
     ]
    }
   ],
   "source": [
    "number = int(input())\n",
    "if number % 3 == 0 and number % 5 == 0:\n",
    "    print(\"Divisible by both\")\n",
    "else:\n",
    "    print(\"Not divisible by both\")"
   ]
  },
  {
   "cell_type": "markdown",
   "id": "71e5d5bd-b9d2-46c7-8623-a438a033a095",
   "metadata": {},
   "source": [
    "# 4. Loops"
   ]
  },
  {
   "cell_type": "code",
   "execution_count": 45,
   "id": "7f51757a-ac19-44f8-84e9-3dbf0f8b8e30",
   "metadata": {},
   "outputs": [
    {
     "name": "stdout",
     "output_type": "stream",
     "text": [
      "1\n",
      "2\n",
      "3\n",
      "5\n",
      "6\n",
      "7\n",
      "9\n",
      "10\n",
      "11\n",
      "13\n",
      "14\n",
      "15\n",
      "17\n",
      "18\n",
      "19\n"
     ]
    }
   ],
   "source": [
    "for i in range (1,21):\n",
    "    if i % 4 == 0:\n",
    "        continue\n",
    "    print(i)\n",
    "    "
   ]
  },
  {
   "cell_type": "code",
   "execution_count": 46,
   "id": "3f4b6e22-0278-4736-b1f9-341f8e42cce8",
   "metadata": {},
   "outputs": [
    {
     "name": "stdout",
     "output_type": "stream",
     "text": [
      "7\n",
      "14\n",
      "21\n",
      "28\n",
      "35\n",
      "42\n",
      "49\n",
      "56\n",
      "63\n",
      "70\n"
     ]
    }
   ],
   "source": [
    "for i in range (1,11):\n",
    "    print(i*7)"
   ]
  },
  {
   "cell_type": "code",
   "execution_count": 48,
   "id": "f9c434b9-14c0-4b08-b72e-f77eb2f2b00d",
   "metadata": {},
   "outputs": [
    {
     "name": "stdout",
     "output_type": "stream",
     "text": [
      "100\n",
      "95\n",
      "90\n",
      "85\n",
      "80\n",
      "75\n",
      "70\n",
      "65\n",
      "60\n",
      "55\n",
      "50\n",
      "45\n",
      "40\n",
      "35\n",
      "30\n",
      "25\n",
      "20\n",
      "15\n",
      "10\n",
      "5\n",
      "0\n"
     ]
    }
   ],
   "source": [
    "number = 100\n",
    "while number >= 0:\n",
    "    print(number)\n",
    "    number -= 5"
   ]
  },
  {
   "cell_type": "code",
   "execution_count": null,
   "id": "35e576c6-b470-437d-8a3d-dabc32b5b9f0",
   "metadata": {},
   "outputs": [],
   "source": []
  },
  {
   "cell_type": "code",
   "execution_count": null,
   "id": "e8ae63fd-f422-46b1-a34a-35d57cb32ba6",
   "metadata": {},
   "outputs": [],
   "source": [
    "word = input(\"Type a word (or 'stop' to finish): \")\n",
    "while word != \"stop\":\n",
    "    count += 1\n",
    "    word = input(\"Type a word (or 'stop' to finish): \")\n",
    "\n"
   ]
  },
  {
   "cell_type": "markdown",
   "id": "b620a9a4-2b91-4f69-bc74-32a313e55ddc",
   "metadata": {},
   "source": [
    "# 5. Combined Practice Exercises"
   ]
  },
  {
   "cell_type": "code",
   "execution_count": 51,
   "id": "e8fb5c4f-ce97-4435-9660-52abe66af44f",
   "metadata": {},
   "outputs": [
    {
     "name": "stdin",
     "output_type": "stream",
     "text": [
      "What is your first name?  Holden\n",
      "What is your age in whole numbers?  19\n"
     ]
    },
    {
     "name": "stdout",
     "output_type": "stream",
     "text": [
      "Hi Holden, you'll be 24 in five years.\n"
     ]
    }
   ],
   "source": [
    "name = input(\"What is your first name? \")\n",
    "age = int(input(\"What is your age in whole numbers? \"))\n",
    "future = age + 5\n",
    "print(f\"Hi {name}, you'll be {future} in five years.\") "
   ]
  },
  {
   "cell_type": "code",
   "execution_count": 59,
   "id": "67edb437-2934-40ee-ae21-a8a15af4c92c",
   "metadata": {},
   "outputs": [
    {
     "name": "stdin",
     "output_type": "stream",
     "text": [
      "Hello, please type a number and press enter.  5\n"
     ]
    },
    {
     "name": "stdout",
     "output_type": "stream",
     "text": [
      "The sum of numbers from 1 to 5 is 15.\n"
     ]
    }
   ],
   "source": [
    "n = int(input(\"Hello, please type a number and press enter. \"))\n",
    "total = 0\n",
    "for i in range(1,n +1):\n",
    "    total += i\n",
    "print(f\"The sum of numbers from 1 to {n} is {total}.\")\n"
   ]
  },
  {
   "cell_type": "code",
   "execution_count": 58,
   "id": "e827fd1a-ab37-44a7-9953-e6fde854a26d",
   "metadata": {},
   "outputs": [
    {
     "name": "stdin",
     "output_type": "stream",
     "text": [
      "What is your grade rounded to the nearest whole number?  99\n"
     ]
    },
    {
     "name": "stdout",
     "output_type": "stream",
     "text": [
      "A\n"
     ]
    }
   ],
   "source": [
    "grade = int(input(\"What is your grade rounded to the nearest whole number? \"))\n",
    "if grade >= 90:\n",
    "    print(\"A\")\n",
    "elif 89 >= grade >= 80:\n",
    "    print(\"B\")\n",
    "elif 79 >= grade >= 70:\n",
    "    print(\"C\")\n",
    "elif 69 >= grade >= 60:\n",
    "    print(\"D\")\n",
    "else:\n",
    "    print(\"F\")"
   ]
  }
 ],
 "metadata": {
  "kernelspec": {
   "display_name": "Python [conda env:base] *",
   "language": "python",
   "name": "conda-base-py"
  },
  "language_info": {
   "codemirror_mode": {
    "name": "ipython",
    "version": 3
   },
   "file_extension": ".py",
   "mimetype": "text/x-python",
   "name": "python",
   "nbconvert_exporter": "python",
   "pygments_lexer": "ipython3",
   "version": "3.12.7"
  }
 },
 "nbformat": 4,
 "nbformat_minor": 5
}
