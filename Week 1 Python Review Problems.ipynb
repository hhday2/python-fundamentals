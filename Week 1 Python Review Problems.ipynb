{
 "cells": [
  {
   "cell_type": "markdown",
   "id": "78263167-4894-4263-8034-f6f53d7dd411",
   "metadata": {},
   "source": [
    "### 1)."
   ]
  },
  {
   "cell_type": "code",
   "execution_count": 2,
   "id": "6ca8468a-62b6-4fec-8c32-c7df2d8731e9",
   "metadata": {},
   "outputs": [
    {
     "name": "stdout",
     "output_type": "stream",
     "text": [
      "[15.99, 38.25, 8.75, 60.300000000000004, 23.4, 49.68000000000001, 9.99]\n"
     ]
    }
   ],
   "source": [
    "prices = [15.99, 42.50, 8.75, 67.00, 23.40, 55.20, 9.99]\n",
    "discounted_prices = []\n",
    "for price in prices:\n",
    "    if price > 30:\n",
    "        discounted_prices.append(price * .9)\n",
    "    else:\n",
    "        discounted_prices.append(price)\n",
    "print(discounted_prices)"
   ]
  },
  {
   "cell_type": "markdown",
   "id": "40c33d7d-d6a4-4f65-8b3a-8a14e8d86136",
   "metadata": {},
   "source": [
    "### 2)."
   ]
  },
  {
   "cell_type": "code",
   "execution_count": 4,
   "id": "a163a265-0df3-42f3-88b2-4954dd598b41",
   "metadata": {},
   "outputs": [
    {
     "name": "stdout",
     "output_type": "stream",
     "text": [
      "[10.700000000000001, 27.285, 106.9893, 6.152500000000001, 64.521]\n"
     ]
    }
   ],
   "source": [
    "def add_sales_tax(price):\n",
    "    price = price * 1.07\n",
    "    return price\n",
    "\n",
    "item_prices = [10.00, 25.50, 99.99, 5.75, 60.30]\n",
    "final_prices = []\n",
    "for price in item_prices:\n",
    "    price = add_sales_tax(price)\n",
    "    final_prices.append(price)\n",
    "print(final_prices)"
   ]
  },
  {
   "cell_type": "markdown",
   "id": "dc13f3ec-1f80-41b8-97f7-cd8b96022d3d",
   "metadata": {},
   "source": [
    "### 3)."
   ]
  },
  {
   "cell_type": "code",
   "execution_count": 8,
   "id": "fb1ab636-5583-4365-8b29-ef3a7d34efdf",
   "metadata": {},
   "outputs": [
    {
     "name": "stdout",
     "output_type": "stream",
     "text": [
      "['Excellent', 'Pass', 'Fail', 'Pass', 'Fail', 'Excellent', 'Pass']\n"
     ]
    }
   ],
   "source": [
    "def categorize_score(score):\n",
    "    if score >= 90:\n",
    "        return(\"Excellent\")\n",
    "    elif score >= 70 and score <= 89:\n",
    "        return(\"Pass\")\n",
    "    else:\n",
    "        return(\"Fail\")\n",
    "\n",
    "scores = [95, 82, 67, 74, 59, 99, 70]\n",
    "categories = []\n",
    "\n",
    "for score in scores:\n",
    "    category = categorize_score(score)\n",
    "    categories.append(category)\n",
    "print(categories)"
   ]
  },
  {
   "cell_type": "markdown",
   "id": "bc6dd6e3-93ad-4e3b-a22c-211c572510c7",
   "metadata": {},
   "source": [
    "### 4)."
   ]
  },
  {
   "cell_type": "code",
   "execution_count": 10,
   "id": "f5a88426-d40c-4eef-a0fc-00f2552efce8",
   "metadata": {},
   "outputs": [
    {
     "name": "stdout",
     "output_type": "stream",
     "text": [
      "{'Alice': 88, 'Bob': 92, 'Carol': 77, 'David': 85}\n"
     ]
    }
   ],
   "source": [
    "names = [\"Alice\", \"Bob\", \"Carol\", \"David\"]\n",
    "grades = [88, 92, 77, 85]\n",
    "\n",
    "student_scores = dict(zip(names, grades))\n",
    "print(student_scores)"
   ]
  },
  {
   "cell_type": "markdown",
   "id": "e6380c1b-5441-4f67-a565-d80c662ac2f9",
   "metadata": {},
   "source": [
    "### 5)."
   ]
  },
  {
   "cell_type": "code",
   "execution_count": 13,
   "id": "eca9b9c8-81a0-44ea-9c8d-dcdd9da7a8b7",
   "metadata": {},
   "outputs": [
    {
     "name": "stdout",
     "output_type": "stream",
     "text": [
      "['Bob', 'Eve']\n"
     ]
    }
   ],
   "source": [
    "students = {\n",
    "    \"Alice\": 88,\n",
    "    \"Bob\": 92,\n",
    "    \"Carol\": 77,\n",
    "    \"David\": 85,\n",
    "    \"Eve\": 95,\n",
    "    \"Frank\": 67\n",
    "}\n",
    "a_students = []\n",
    "\n",
    "for name, score in students.items():\n",
    "    if score >= 90:\n",
    "        a_students.append(name)\n",
    "print(a_students)"
   ]
  },
  {
   "cell_type": "markdown",
   "id": "262f1b10-adab-43cf-8c0f-bdfae735f15d",
   "metadata": {},
   "source": [
    "### 6)."
   ]
  },
  {
   "cell_type": "code",
   "execution_count": 17,
   "id": "35f2c328-eb53-4789-b5e3-fcc5fd3ddeec",
   "metadata": {},
   "outputs": [
    {
     "name": "stdout",
     "output_type": "stream",
     "text": [
      "[5.0, 1.4142135623730951, 5.0, 3.605551275463989, 10.0]\n"
     ]
    }
   ],
   "source": [
    "import math\n",
    "\n",
    "def distance_from_origin(point):\n",
    "    x, y = point\n",
    "    return math.sqrt(x**2 + y**2)\n",
    "points = [(3, 4), (1, 1), (0, 5), (-2, -3), (6, 8)]\n",
    "distances = []\n",
    "for point in points:\n",
    "    point = distance_from_origin(point)\n",
    "    distances.append(point)\n",
    "\n",
    "print(distances)"
   ]
  }
 ],
 "metadata": {
  "kernelspec": {
   "display_name": "Python [conda env:base] *",
   "language": "python",
   "name": "conda-base-py"
  },
  "language_info": {
   "codemirror_mode": {
    "name": "ipython",
    "version": 3
   },
   "file_extension": ".py",
   "mimetype": "text/x-python",
   "name": "python",
   "nbconvert_exporter": "python",
   "pygments_lexer": "ipython3",
   "version": "3.12.7"
  }
 },
 "nbformat": 4,
 "nbformat_minor": 5
}
