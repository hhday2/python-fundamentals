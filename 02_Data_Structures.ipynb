{
 "cells": [
  {
   "cell_type": "markdown",
   "id": "a89b0978-39bb-4b60-b893-fbc72a4db408",
   "metadata": {},
   "source": [
    "# Lists in Python"
   ]
  },
  {
   "cell_type": "code",
   "execution_count": 3,
   "id": "251a95f5-a357-4a4c-8523-aef1afa462b9",
   "metadata": {},
   "outputs": [
    {
     "name": "stdout",
     "output_type": "stream",
     "text": [
      "cherry\n"
     ]
    }
   ],
   "source": [
    "fruits = [\"apple\",\"banana\",\"cherry\"]\n",
    "print(fruits[2])"
   ]
  },
  {
   "cell_type": "code",
   "execution_count": null,
   "id": "4ab2b700-cc6c-4c74-b712-144caa167364",
   "metadata": {},
   "outputs": [],
   "source": [
    "numbers = [10, 20, 30, 40, 50]\n"
   ]
  },
  {
   "cell_type": "markdown",
   "id": "090e499b-b998-4f4d-b44e-af3b96fe0b02",
   "metadata": {},
   "source": [
    "## Practice Problem"
   ]
  },
  {
   "cell_type": "code",
   "execution_count": 10,
   "id": "cb7819c1-5dcc-4e5b-b87f-5221be091828",
   "metadata": {},
   "outputs": [
    {
     "name": "stdout",
     "output_type": "stream",
     "text": [
      "[77, 88, 91, 70, 84, 85]\n"
     ]
    }
   ],
   "source": [
    "raw_scores = [72, 88, 91, 65, 79, 85]\n",
    "final_scores = []\n",
    "for score in raw_scores:\n",
    "    if score < 80:\n",
    "        final_scores.append(score + 5)\n",
    "    else:\n",
    "        final_scores.append(score)\n",
    "print(final_scores)"
   ]
  },
  {
   "cell_type": "markdown",
   "id": "f8154fd1-1ba8-4e10-9420-920fbeb6073f",
   "metadata": {},
   "source": [
    "## Practice Problem Variant"
   ]
  },
  {
   "cell_type": "code",
   "execution_count": 14,
   "id": "49499663-f40a-4a3b-8006-14a2775c0017",
   "metadata": {},
   "outputs": [
    {
     "name": "stdout",
     "output_type": "stream",
     "text": [
      "[77, 88, 91, 70, 84, 85]\n"
     ]
    }
   ],
   "source": [
    "scores = [72, 88, 91, 65, 79, 85]\n",
    "for i in range(len(scores)):\n",
    "    if scores[i] < 80:\n",
    "        scores[i] = (scores[i] + 5)\n",
    "    else:\n",
    "        scores[i] = scores[i]\n",
    "print(scores)"
   ]
  },
  {
   "cell_type": "markdown",
   "id": "2ca786ef-b6a7-4f39-9a9d-3f3d771cd4ef",
   "metadata": {},
   "source": [
    "## String Methods + Immutability"
   ]
  },
  {
   "cell_type": "code",
   "execution_count": 15,
   "id": "646d346c-226f-4bf2-ad46-0e63ff05c454",
   "metadata": {},
   "outputs": [
    {
     "name": "stdout",
     "output_type": "stream",
     "text": [
      "hello world\n",
      "  HELLO WORLD  \n",
      "  hello world  \n",
      "  hi world  \n",
      "15\n"
     ]
    }
   ],
   "source": [
    "s = \"  hello world  \"\n",
    "\n",
    "print(s.strip())\n",
    "print(s.upper())\n",
    "print(s.lower())\n",
    "print(s.replace(\"hello\", \"hi\"))\n",
    "print(len(s))"
   ]
  },
  {
   "cell_type": "markdown",
   "id": "38ce116b-97a7-4e31-aa8d-051aaf3d5bb2",
   "metadata": {},
   "source": [
    "## Tuples – Fixed Data Collections"
   ]
  },
  {
   "cell_type": "code",
   "execution_count": 16,
   "id": "b09febb2-136f-49b6-9970-374071bf4505",
   "metadata": {},
   "outputs": [
    {
     "name": "stdout",
     "output_type": "stream",
     "text": [
      "4\n",
      "7\n"
     ]
    }
   ],
   "source": [
    "point = (4,7)\n",
    "print(point[0])\n",
    "print(point[1])"
   ]
  },
  {
   "cell_type": "code",
   "execution_count": 17,
   "id": "b5912ae5-ca85-45eb-8ea8-51840b225026",
   "metadata": {},
   "outputs": [
    {
     "name": "stdout",
     "output_type": "stream",
     "text": [
      "11\n"
     ]
    }
   ],
   "source": [
    "x, y = point\n",
    "print(x + y)"
   ]
  },
  {
   "cell_type": "markdown",
   "id": "f90a717f-0b9a-48c4-bdb9-32fa71b6f263",
   "metadata": {},
   "source": [
    "## Unordered, Unique Items"
   ]
  },
  {
   "cell_type": "code",
   "execution_count": 18,
   "id": "71916b70-7317-49fd-9632-7cf43d62e540",
   "metadata": {},
   "outputs": [
    {
     "name": "stdout",
     "output_type": "stream",
     "text": [
      "{1, 2, 3, 4, 5}\n"
     ]
    }
   ],
   "source": [
    "nums = [1, 2, 2, 3, 4, 4, 5]\n",
    "unique_nums = set(nums)\n",
    "print(unique_nums)"
   ]
  },
  {
   "cell_type": "code",
   "execution_count": 37,
   "id": "852cf99a-45e9-4712-8a0f-3bf5fe47ac00",
   "metadata": {},
   "outputs": [
    {
     "name": "stdout",
     "output_type": "stream",
     "text": [
      "{1, 2, 3, 4, 5}\n",
      "{3}\n",
      "{1, 2}\n"
     ]
    }
   ],
   "source": [
    "a = {1, 2, 3}\n",
    "b = {3, 4, 5}\n",
    "\n",
    "print(a.union(b))\n",
    "print(a.intersection(b))\n",
    "print(a.difference(b))"
   ]
  },
  {
   "cell_type": "markdown",
   "id": "5827f90a-56c4-4a21-9625-2d80bb8e5d42",
   "metadata": {},
   "source": [
    "## Dictionaries – Key-Value Pairs"
   ]
  },
  {
   "cell_type": "code",
   "execution_count": 25,
   "id": "87848a4f-43f5-45f0-bf4f-760ccdc70f4c",
   "metadata": {},
   "outputs": [
    {
     "name": "stdout",
     "output_type": "stream",
     "text": [
      "85\n",
      "{'Alice': 91, 'Bob': 90, 'David': 88}\n",
      "Alice: 91\n",
      "Bob: 90\n",
      "David: 88\n"
     ]
    }
   ],
   "source": [
    "grades = {\"Alice\": 91, \"Bob\": 85, \"Carol\": 77}\n",
    "\n",
    "print(grades[\"Bob\"])\n",
    "\n",
    "grades[\"David\"] = 88\n",
    "grades[\"Bob\"] = 90\n",
    "del grades[\"Carol\"]\n",
    "print(grades)\n",
    "\n",
    "for name, score in grades.items():\n",
    "    print(f\"{name}: {score}\")"
   ]
  },
  {
   "cell_type": "markdown",
   "id": "ab2d606e-6fa0-44e4-8904-8b8fc1b798c3",
   "metadata": {},
   "source": [
    "## Functions"
   ]
  },
  {
   "cell_type": "code",
   "execution_count": 28,
   "id": "998da815-9fbf-4f45-b8ad-c670527c7677",
   "metadata": {},
   "outputs": [
    {
     "name": "stdout",
     "output_type": "stream",
     "text": [
      "Hello, Holden!\n"
     ]
    }
   ],
   "source": [
    "def greet(name):\n",
    "    return f\"Hello, {name}!\"\n",
    "print(greet(\"Holden\"))"
   ]
  },
  {
   "cell_type": "markdown",
   "id": "f3849314-5c42-4770-928c-83a04c9bbb82",
   "metadata": {},
   "source": [
    "# Problem Set"
   ]
  },
  {
   "cell_type": "markdown",
   "id": "430e0166-6873-46c9-ad87-35042ef5d700",
   "metadata": {},
   "source": [
    "## Number One:"
   ]
  },
  {
   "cell_type": "code",
   "execution_count": 34,
   "id": "b6ee19ff-02cc-4992-96b6-c521be75f630",
   "metadata": {},
   "outputs": [
    {
     "name": "stdout",
     "output_type": "stream",
     "text": [
      "[24.99, 49.5, 65.25, 19.95, 79.2, 45.0, 54.0]\n"
     ]
    }
   ],
   "source": [
    "prices = [24.99, 55.00, 72.50, 19.95, 88.00, 45.00, 60.00]\n",
    "updated = []\n",
    "for price in prices:\n",
    "    if price > 50:\n",
    "        updated.append(price * .9)\n",
    "    else:\n",
    "        updated.append(price)\n",
    "print(updated)"
   ]
  },
  {
   "cell_type": "markdown",
   "id": "081a775a-fbb5-4483-b23b-4498b2bb7ee9",
   "metadata": {},
   "source": [
    "## Number Two:"
   ]
  },
  {
   "cell_type": "code",
   "execution_count": 36,
   "id": "b001e07c-8d7c-4a22-86ee-6f8601093ec5",
   "metadata": {},
   "outputs": [
    {
     "name": "stdout",
     "output_type": "stream",
     "text": [
      "22\n"
     ]
    }
   ],
   "source": [
    "point = (3, 7, 12)\n",
    "x = point[0]\n",
    "y = point [1]\n",
    "z = point[2]\n",
    "total = x + y + z\n",
    "\n",
    "print(total)"
   ]
  },
  {
   "cell_type": "markdown",
   "id": "0316c226-5d46-4ab5-bb90-dc779ddb45d6",
   "metadata": {},
   "source": [
    "## Number Three:"
   ]
  },
  {
   "cell_type": "code",
   "execution_count": 39,
   "id": "2ca5af19-41cc-4002-8d39-754e6c667f90",
   "metadata": {},
   "outputs": [
    {
     "name": "stdout",
     "output_type": "stream",
     "text": [
      "{101, 102, 103}\n"
     ]
    }
   ],
   "source": [
    "set_a = {101, 102, 103, 104, 105}\n",
    "set_b = {104, 105, 106, 107}\n",
    "\n",
    "print(set_a.difference(set_b))"
   ]
  },
  {
   "cell_type": "markdown",
   "id": "3d0c19c3-29ce-404c-b205-83c061ef7a1c",
   "metadata": {},
   "source": [
    "## Number Four:"
   ]
  },
  {
   "cell_type": "code",
   "execution_count": 43,
   "id": "e95f7b1f-582d-4a53-9f0a-0d9002a683dd",
   "metadata": {},
   "outputs": [
    {
     "name": "stdout",
     "output_type": "stream",
     "text": [
      "Alice\n",
      "David\n",
      "Eve\n"
     ]
    }
   ],
   "source": [
    "scores = {\"Alice\": 91, \"Bob\": 84, \"Carol\": 78, \"David\": 88, \"Eve\": 95}\n",
    "for (name, score) in scores.items():\n",
    "    if score > 85:\n",
    "        print(name)"
   ]
  },
  {
   "cell_type": "markdown",
   "id": "2570122d-80a7-4c01-bdd3-fec173accc52",
   "metadata": {},
   "source": [
    "## Number Five:"
   ]
  },
  {
   "cell_type": "code",
   "execution_count": 50,
   "id": "ab98e480-8f9b-45ef-a2e9-dd4d362cb9dd",
   "metadata": {},
   "outputs": [
    {
     "name": "stdout",
     "output_type": "stream",
     "text": [
      "{'Bob', 'Dave', 'Carol', 'Alice'}\n"
     ]
    }
   ],
   "source": [
    "raw_names = [\" alice \", \"BOB\", \"Alice\", \"carol\", \"Carol \", \"dave\"]\n",
    "cleaned = [name.strip().title() for name in raw_names]\n",
    "unique = set(cleaned)\n",
    "print(unique)"
   ]
  },
  {
   "cell_type": "markdown",
   "id": "78ebac3e-4560-4d4b-88d7-4d7b314bead4",
   "metadata": {},
   "source": [
    "## Number Six:"
   ]
  },
  {
   "cell_type": "code",
   "execution_count": 56,
   "id": "63a2fff7-9901-434e-9e6a-571e4e6fc5c4",
   "metadata": {},
   "outputs": [
    {
     "name": "stdout",
     "output_type": "stream",
     "text": [
      "102.9\n"
     ]
    }
   ],
   "source": [
    "def average_price(prices):\n",
    "    total = sum(prices)\n",
    "    count = len(prices)\n",
    "    return total / count\n",
    "\n",
    "prices = [101.25, 98.75, 105.50, 110.00, 99.00]\n",
    "result = average_price(prices)\n",
    "print(result)"
   ]
  },
  {
   "cell_type": "markdown",
   "id": "c5a4be28-ea14-496f-829d-dcb7c7712138",
   "metadata": {},
   "source": [
    "## Number Seven:"
   ]
  },
  {
   "cell_type": "code",
   "execution_count": 62,
   "id": "3b3fa4c1-2579-4427-b15c-0252172f5b82",
   "metadata": {},
   "outputs": [
    {
     "name": "stdout",
     "output_type": "stream",
     "text": [
      "[{'name': 'pen', 'price': 7.0}, {'name': 'notebook', 'price': 12.5}, {'name': 'eraser', 'price': 5.25}, {'name': 'stapler', 'price': 11.99}, {'name': 'backpack', 'price': 35.0}]\n"
     ]
    }
   ],
   "source": [
    "products = [{\"name\": \"pen\", \"price\": 5.00},{\"name\": \"notebook\", \"price\": 12.50},{\"name\": \"eraser\", \"price\": 3.25},{\"name\": \"stapler\", \"price\": 9.99},{\"name\": \"backpack\", \"price\": 35.00}]\n",
    "updated = []\n",
    "for product in products:\n",
    "    if product[\"price\"] < 10:\n",
    "        product[\"price\"] += 2\n",
    "    updated.append(product)\n",
    "\n",
    "print(updated)"
   ]
  }
 ],
 "metadata": {
  "kernelspec": {
   "display_name": "Python [conda env:base] *",
   "language": "python",
   "name": "conda-base-py"
  },
  "language_info": {
   "codemirror_mode": {
    "name": "ipython",
    "version": 3
   },
   "file_extension": ".py",
   "mimetype": "text/x-python",
   "name": "python",
   "nbconvert_exporter": "python",
   "pygments_lexer": "ipython3",
   "version": "3.12.7"
  }
 },
 "nbformat": 4,
 "nbformat_minor": 5
}
